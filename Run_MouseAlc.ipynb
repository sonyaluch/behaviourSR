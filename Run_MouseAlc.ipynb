{
 "cells": [
  {
   "cell_type": "code",
   "execution_count": 15,
   "id": "85f519ce-c1e4-4ada-931b-05cc9bc2b179",
   "metadata": {},
   "outputs": [
    {
     "name": "stdout",
     "output_type": "stream",
     "text": [
      "Model: random_forest\n",
      "Cross-validation R² scores: [0.97712197 0.96491984 0.97582631 0.96694498 0.95202965]\n",
      "Mean CV R²: 0.9674 (+/- 0.0090)\n",
      "R² Score: 0.9724\n",
      "   cycle  predicted_consumption\n",
      "0   11.0               1.527425\n",
      "1   12.0               1.548800\n",
      "2   13.0               1.526943\n",
      "3   14.0               1.548800\n",
      "4   15.0               1.530020\n",
      "5   16.0               1.548598\n",
      "6   17.0               1.531656\n",
      "7   18.0               1.526943\n",
      "8   19.0               1.536648\n",
      "9   20.0               1.537081\n"
     ]
    }
   ],
   "source": [
    "from mouse_alcohol_prediction import MouseAlcoholPredictor\n",
    "\n",
    "\n",
    "predictor = MouseAlcoholPredictor(model_type='random_forest')\n",
    "\n",
    "# generate sample data\n",
    "data = predictor.generate_sample_data(n_mice=20, n_cycles=10)\n",
    "\n",
    "# create engineered features\n",
    "data = predictor.create_features(data)\n",
    "\n",
    "# prepare data for training\n",
    "X, y = predictor.prepare_data(data)\n",
    "\n",
    "# split into train/test sets\n",
    "from sklearn.model_selection import train_test_split\n",
    "X_train, X_test, y_train, y_test = train_test_split(X, y, test_size=0.2)\n",
    "\n",
    "# train the model\n",
    "predictor.train(X_train, y_train)\n",
    "\n",
    "# evaluate performance\n",
    "metrics, predictions = predictor.evaluate(X_test, y_test)\n",
    "print(f\"R² Score: {metrics['r2']:.4f}\")\n",
    "\n",
    "# predict future cycles for a specific mouse\n",
    "mouse_data = data[data['mouse_id'] == 5]\n",
    "future_predictions = predictor.predict_future_cycles(mouse_data, n_future_cycles=10)\n",
    "print(future_predictions)"
   ]
  },
  {
   "cell_type": "code",
   "execution_count": null,
   "id": "94660cd7-1b1f-4c01-a0f7-5e6f89628b1e",
   "metadata": {},
   "outputs": [],
   "source": []
  },
  {
   "cell_type": "code",
   "execution_count": null,
   "id": "95d11e78-d7a6-476a-b3f6-fe9b1c3af735",
   "metadata": {},
   "outputs": [],
   "source": []
  },
  {
   "cell_type": "code",
   "execution_count": null,
   "id": "75789f91-0055-481f-8bcd-ec95d465650b",
   "metadata": {},
   "outputs": [],
   "source": []
  }
 ],
 "metadata": {
  "kernelspec": {
   "display_name": "Python 3 (ipykernel)",
   "language": "python",
   "name": "python3"
  },
  "language_info": {
   "codemirror_mode": {
    "name": "ipython",
    "version": 3
   },
   "file_extension": ".py",
   "mimetype": "text/x-python",
   "name": "python",
   "nbconvert_exporter": "python",
   "pygments_lexer": "ipython3",
   "version": "3.12.4"
  }
 },
 "nbformat": 4,
 "nbformat_minor": 5
}
